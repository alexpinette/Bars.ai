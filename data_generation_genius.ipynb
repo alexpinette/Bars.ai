{
 "cells": [
  {
   "cell_type": "code",
   "execution_count": null,
   "id": "74d71cab",
   "metadata": {},
   "outputs": [],
   "source": [
    "import genius_config\n",
    "import pandas as pd\n",
    "from functions import *"
   ]
  },
  {
   "cell_type": "code",
   "execution_count": null,
   "id": "13f05a0d",
   "metadata": {},
   "outputs": [],
   "source": [
    "# This token was granted through the use of Genius's website and allows us to make calls to the API\n",
    "client_access_token = genius_config.client_access_token\n",
    "\n",
    "# Make sure this artist exists on Genius database, and 'num_of_songs' is true to that artist.\n",
    "artist_name = 'Kanye West'\n",
    "num_of_songs = 10"
   ]
  },
  {
   "cell_type": "code",
   "execution_count": null,
   "id": "03b73282",
   "metadata": {},
   "outputs": [],
   "source": [
    "songs = request_song_url(artist_name, num_of_songs)\n",
    "lyrics = [\"\"] * num_of_songs\n",
    "index = 0\n",
    "for song in songs:\n",
    "    soup = BeautifulSoup(requests.get(song).content, 'lxml')\n",
    "    lyrics[index] = \"\"\n",
    "\n",
    "    for tag in soup.select('div[class^=\"Lyrics__Container\"], .song_body-lyrics p'):\n",
    "\n",
    "        for i in tag.select('i'):\n",
    "            i.unwrap()\n",
    "        tag.smooth()\n",
    "\n",
    "        t = tag.get_text(strip=True, separator='\\n')\n",
    "\n",
    "        if t:\n",
    "            lyrics[index]+=(t)\n",
    "    print(index)\n",
    "    index = index + 1"
   ]
  },
  {
   "cell_type": "code",
   "execution_count": null,
   "id": "6d9a89a0",
   "metadata": {},
   "outputs": [],
   "source": [
    "artist_name = artist_name.replace(\" \", \"_\")\n",
    "artist_name = artist_name.lower()\n",
    "for i in range(len(lyrics)):\n",
    "        lyrics[i]= clean_lyrics(lyrics[i])\n",
    "song = pd.DataFrame(lyrics)\n",
    "song.columns = ['lyrics']\n",
    "song.to_csv('datasets/' + artist_name + '.csv', index=False)"
   ]
  }
 ],
 "metadata": {
  "kernelspec": {
   "display_name": "Python 3 (ipykernel)",
   "language": "python",
   "name": "python3"
  },
  "language_info": {
   "codemirror_mode": {
    "name": "ipython",
    "version": 3
   },
   "file_extension": ".py",
   "mimetype": "text/x-python",
   "name": "python",
   "nbconvert_exporter": "python",
   "pygments_lexer": "ipython3",
   "version": "3.7.11"
  }
 },
 "nbformat": 4,
 "nbformat_minor": 5
}
