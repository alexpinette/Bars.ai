{
 "cells": [
  {
   "cell_type": "code",
   "execution_count": 20,
   "id": "8ee8ba26",
   "metadata": {},
   "outputs": [],
   "source": [
    "import spotify_config\n",
    "import pandas as pd\n",
    "import spotipy\n",
    "from spotipy.oauth2 import SpotifyClientCredentials\n",
    "from functions import *"
   ]
  },
  {
   "cell_type": "code",
   "execution_count": 21,
   "id": "52f3a482",
   "metadata": {},
   "outputs": [],
   "source": [
    "SPOTIPY_CLIENT_ID=spotify_config.SPOTIPY_CLIENT_ID\n",
    "SPOTIPY_CLIENT_SECRET=spotify_config.SPOTIPY_CLIENT_SECRET\n",
    "\n",
    "\n",
    "#--------------------------------------------\n",
    "# RapCaviar Playlist (Import Playlist Here)\n",
    "# url = \"https://open.spotify.com/playlist/37i9dQZF1DX0XUsuxWHRQd\"\n",
    "\n",
    "# Pop Playlist 2021\n",
    "# url = \"https://open.spotify.com/playlist/02ES3fS2eHdLnDEuEUD60V\"\n",
    "\n",
    "# Hot Country\n",
    "url = 'https://open.spotify.com/playlist/37i9dQZF1DX1lVhptIYRda'\n",
    "#--------------------------------------------\n",
    "\n",
    "output_name = 'country'"
   ]
  },
  {
   "cell_type": "code",
   "execution_count": 14,
   "id": "91339c85",
   "metadata": {},
   "outputs": [
    {
     "name": "stdout",
     "output_type": "stream",
     "text": [
      "['Miranda Lambert', 'Jon Pardi', 'Scotty McCreery', 'Morgan Wade', 'Old Dominion', 'Gabby Barrett', 'Jimmie Allen', 'MacKenzie Porter', 'Travis Denning', 'Walker Hayes', 'Maren Morris', 'Cole Swindell', 'Russell Dickerson', 'Morgan Wallen', 'Maddie & Tae', 'Dierks Bentley', 'Thomas Rhett', 'Erin Kinsey', 'Corey Kent', 'Halle Kearns', 'Mitchell Tenpenny', 'Dustin Lynch', 'Carly Pearce', 'Bailey Zimmerman', 'Ingrid Andress', 'Cody Johnson', 'Lee Brice', 'Carrie Underwood', 'Dylan Scott', 'Zach Bryan', 'Conner Smith', 'Hailey Whitters', 'Nate Smith', 'Spencer Crandall', 'Jessie James Decker', 'Chayce Beckham', 'Jason Aldean', 'BRELAND', 'Kelsea Ballerini', 'Luke Combs', 'Kameron Marlowe', 'Restless Road', 'Carter Faith', 'Chase Rice', 'Midland', 'Caitlyn Smith', 'Kane Brown', 'David J', 'ERNEST', 'Danielle Bradbery', 'Dalton Dover', 'Seaforth']\n"
     ]
    }
   ],
   "source": [
    "#Authentication - without user\n",
    "client_credentials_manager = SpotifyClientCredentials(client_id=SPOTIPY_CLIENT_ID, client_secret=SPOTIPY_CLIENT_SECRET)\n",
    "sp = spotipy.Spotify(client_credentials_manager = client_credentials_manager)\n",
    "\n",
    "artists = []\n",
    "results = sp.playlist_items(url)\n",
    "for idx, item in enumerate(results['items']):\n",
    "    track = item['track']\n",
    "    artists.append(track['artists'][0]['name'])\n",
    "#     print(idx, track['artists'][0]['name'], \" - \", track['name'])\n",
    "result = [] \n",
    "[result.append(x) for x in artists if x not in result] \n",
    "print(result)"
   ]
  },
  {
   "cell_type": "code",
   "execution_count": null,
   "id": "06844ada",
   "metadata": {},
   "outputs": [],
   "source": [
    "all_songs = []\n",
    "for artist_name in result:\n",
    "    songs = request_song_url(artist_name, 10)\n",
    "    lyrics = [\"\"] * 10\n",
    "    index = 0\n",
    "    for song in songs:\n",
    "        soup = BeautifulSoup(requests.get(song).content, 'lxml')\n",
    "        lyrics[index] = \"\"\n",
    "\n",
    "        for tag in soup.select('div[class^=\"Lyrics__Container\"], .song_body-lyrics p'):\n",
    "\n",
    "            for i in tag.select('i'):\n",
    "                i.unwrap()\n",
    "            tag.smooth()\n",
    "\n",
    "            t = tag.get_text(strip=True, separator='\\n')\n",
    "\n",
    "            if t:\n",
    "                lyrics[index]+=(t)\n",
    "        print(index)\n",
    "        index = index + 1\n",
    "    search_term = artist_name\n",
    "    genius_search_url = f\"http://api.genius.com/search?q={search_term}&access_token={client_access_token}\"\n",
    "    response = requests.get(genius_search_url)\n",
    "    json_data = response.json()\n",
    "    for i in range(len(lyrics)):\n",
    "        lyrics[i]= clean_lyrics(lyrics[i])\n",
    "    print(lyrics[0])\n",
    "    index = 0\n",
    "    for song in json_data['response']['hits']:\n",
    "        all_songs.append([search_term, song['result']['full_title'], lyrics[index]])\n",
    "        index += 1"
   ]
  },
  {
   "cell_type": "code",
   "execution_count": 23,
   "id": "2f7005b2",
   "metadata": {},
   "outputs": [],
   "source": [
    "song = pd.DataFrame(all_songs)\n",
    "song.columns = ['artist_name', 'song_title', 'lyrics']\n",
    "song.to_csv('datasets/' + output_name + '.csv', index=False)"
   ]
  },
  {
   "cell_type": "code",
   "execution_count": null,
   "id": "b798aa10",
   "metadata": {},
   "outputs": [],
   "source": []
  }
 ],
 "metadata": {
  "kernelspec": {
   "display_name": "Python 3 (ipykernel)",
   "language": "python",
   "name": "python3"
  },
  "language_info": {
   "codemirror_mode": {
    "name": "ipython",
    "version": 3
   },
   "file_extension": ".py",
   "mimetype": "text/x-python",
   "name": "python",
   "nbconvert_exporter": "python",
   "pygments_lexer": "ipython3",
   "version": "3.7.11"
  }
 },
 "nbformat": 4,
 "nbformat_minor": 5
}
