{
 "cells": [
  {
   "cell_type": "code",
   "execution_count": 1,
   "id": "8c12adc1",
   "metadata": {},
   "outputs": [],
   "source": [
    "import requests # To make get calls to API\n",
    "from bs4 import BeautifulSoup # Helps make parsing html files much easier"
   ]
  },
  {
   "cell_type": "code",
   "execution_count": 2,
   "id": "aa7d1bd7",
   "metadata": {},
   "outputs": [],
   "source": [
    "# This token was granted through the use of Genius's website and allows us to make calls to the API\n",
    "client_access_token = \"_mDTViAvedsTbhpMuhLml-2gkMw1DU8tKQRnqmFkQDXT2aypVvCg67wDEr4eqBIs\""
   ]
  },
  {
   "cell_type": "code",
   "execution_count": 3,
   "id": "5e13f9ab",
   "metadata": {},
   "outputs": [
    {
     "name": "stdout",
     "output_type": "stream",
     "text": [
      "Found 1 songs by Elton John\n"
     ]
    }
   ],
   "source": [
    "# Get artist object from Genius API\n",
    "def request_artist_info(artist_name, page):\n",
    "    base_url = 'https://api.genius.com'\n",
    "    headers = {'Authorization': 'Bearer ' + client_access_token}\n",
    "    search_url = base_url + '/search?per_page=10&page=' + str(page)\n",
    "    data = {'q': artist_name}\n",
    "    response = requests.get(search_url, data=data, headers=headers)\n",
    "    return response\n",
    "\n",
    "# Get Genius.com song url's from artist object\n",
    "def request_song_url(artist_name, song_cap):\n",
    "    page = 1\n",
    "    songs = []\n",
    "    \n",
    "    while True:\n",
    "        response = request_artist_info(artist_name, page)\n",
    "        json = response.json()\n",
    "        \n",
    "        # Collect up to song_cap song objects from artist\n",
    "        song_info = []\n",
    "        for hit in json['response']['hits']:\n",
    "            if artist_name.lower() in hit['result']['primary_artist']['name'].lower():\n",
    "                song_info.append(hit)\n",
    "    \n",
    "        # Collect song URL's from song objects\n",
    "        for song in song_info:\n",
    "            if (len(songs) < song_cap):\n",
    "                url = song['result']['url']\n",
    "                songs.append(url)\n",
    "            \n",
    "        if (len(songs) == song_cap):\n",
    "            break\n",
    "        else:\n",
    "            page += 1\n",
    "        \n",
    "    print('Found {} songs by {}'.format(len(songs), artist_name))\n",
    "    return songs\n",
    "    \n",
    "# DEMO\n",
    "songs = request_song_url('Elton John', 1)"
   ]
  },
  {
   "cell_type": "code",
   "execution_count": 6,
   "id": "bcac18c3",
   "metadata": {
    "scrolled": true
   },
   "outputs": [
    {
     "name": "stdout",
     "output_type": "stream",
     "text": [
      "https://genius.com/Elton-john-your-song-lyrics\n",
      "[Verse 1]\n",
      "It's a little bit funny, this feeling inside\n",
      "I'm not one of those who can easily hide\n",
      "I don't have much money, but, boy, if I did\n",
      "I'd buy a big house where we both could live\n",
      "If I was a sculptor, heh, but then again, no\n",
      "Or a man who makes potions in a traveling show\n",
      "I know it's not much, but it's the best I can do\n",
      "My gift is my song, and this one's for you\n",
      "[Chorus]\n",
      "And you can tell everybody this is your song\n",
      "It may be quite simple, but now that it's done\n",
      "I hope you don't mind, I hope you don't mind\n",
      "That I put down in the words\n",
      "How wonderful life is while you're in the world\n",
      "[Verse 2]\n",
      "I sat on the roof and kicked off the moss\n",
      "Well, a few of the verses, well, they've got me quite cross\n",
      "But the sun's been quite kind while I wrote this song\n",
      "It's for people like you that keep it turned on\n",
      "So excuse me forgetting, but these things I do\n",
      "You see, I've forgotten if they're green or they're blue\n",
      "Anyway, the thing is, what I really mean\n",
      "Yours are the sweetest eyes I've ever seen\n",
      "[Chorus]\n",
      "And you can tell everybody this is your song\n",
      "It may be quite simple, but now that it's done\n",
      "I hope you don't mind, I hope you don't mind\n",
      "That I put down in the words\n",
      "How wonderful life is while you're in the world\n",
      "[Outro]\n",
      "I hope you don't mind, I hope you don't mind\n",
      "That I put down in the words\n",
      "How wonderful life is while you're in the world\n"
     ]
    }
   ],
   "source": [
    "url = songs[0]\n",
    "print(songs[0])\n",
    "soup = BeautifulSoup(requests.get(url).content, 'lxml')\n",
    "\n",
    "for tag in soup.select('div[class^=\"Lyrics__Container\"], .song_body-lyrics p'):\n",
    "\n",
    "    for i in tag.select('i'):\n",
    "        i.unwrap()\n",
    "    tag.smooth()\n",
    "\n",
    "    t = tag.get_text(strip=True, separator='\\n')\n",
    "    if t:\n",
    "        print(t)"
   ]
  },
  {
   "cell_type": "code",
   "execution_count": null,
   "id": "9ef49b53",
   "metadata": {},
   "outputs": [],
   "source": []
  }
 ],
 "metadata": {
  "kernelspec": {
   "display_name": "Python 3 (ipykernel)",
   "language": "python",
   "name": "python3"
  },
  "language_info": {
   "codemirror_mode": {
    "name": "ipython",
    "version": 3
   },
   "file_extension": ".py",
   "mimetype": "text/x-python",
   "name": "python",
   "nbconvert_exporter": "python",
   "pygments_lexer": "ipython3",
   "version": "3.7.11"
  }
 },
 "nbformat": 4,
 "nbformat_minor": 5
}
