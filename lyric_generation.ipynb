{
 "cells": [
  {
   "cell_type": "code",
   "execution_count": 1,
   "id": "ffbea00e",
   "metadata": {},
   "outputs": [],
   "source": [
    "from tensorflow import keras\n",
    "import pandas as pd\n",
    "import re\n",
    "import random\n",
    "import sys\n",
    "import numpy as np"
   ]
  },
  {
   "cell_type": "code",
   "execution_count": 2,
   "id": "131fc178",
   "metadata": {},
   "outputs": [],
   "source": [
    "# change model name based on Artist\n",
    "model = keras.models.load_model('models/eminem_300_epo')"
   ]
  },
  {
   "cell_type": "code",
   "execution_count": 3,
   "id": "8bd26d51",
   "metadata": {},
   "outputs": [],
   "source": [
    "# change .csv file based off of Artist\n",
    "data = pd.read_csv ('datasets/eminem.csv')\n",
    "#Lining up all the lyrics to create corpus\n",
    "Corpus =''\n",
    "for listitem in data.lyrics:\n",
    "    Corpus += listitem\n",
    "    \n",
    "Corpus = Corpus.lower() #converting all alphabets to lowecase \n",
    "Corpus = re.sub(\"[^A-Za-z0-9'\\.\\n]\",\" \",Corpus)"
   ]
  },
  {
   "cell_type": "code",
   "execution_count": 12,
   "id": "a5e77cdd",
   "metadata": {},
   "outputs": [],
   "source": [
    "seqlen = 40\n",
    "start_index = random.randint(0, len(Corpus) - seqlen - 1)\n",
    "\n",
    "#-------------------------------------------------------\n",
    "# auto made seed below\n",
    "sentence = Corpus[start_index: start_index + seqlen]\n",
    "\n",
    "# enter your own seed here (HAS TO BE EXACTLY 40 CHARS)\n",
    "# sentence = 'i woulda tried to chatter i guess i got ' \n",
    "#-------------------------------------------------------\n",
    "\n",
    "if(len(sentence) is not 40):\n",
    "    raise Exception(\"Sorry, seed (sentence) has to be EXACTLY 40 characters.\")"
   ]
  },
  {
   "cell_type": "code",
   "execution_count": 7,
   "id": "309c1673",
   "metadata": {},
   "outputs": [
    {
     "name": "stdout",
     "output_type": "stream",
     "text": [
      "----- diversity: 0.2\n",
      "----- Generating with seed: \"d \n",
      "so read up 'bout how i used to get be\"\n",
      "d \n",
      "so read up 'bout how i used to get bein' this shit \n",
      "i was my face  i'm a man  can't be your superman\n",
      "\n",
      "i got a baby  i got a bullshit   i don't wanna go \n",
      "i got a blow  the more i said   the world the walkin' a short to be the mornin' \n",
      "i'm gonna get the sound of me  i was tryin' to be the way that i'm a start of my shit\n",
      "i wanna get the same shit is the only way to see\n",
      "the way that i'm gone  i ain't got to see me \n",
      "i ain't got the same s\n",
      "----- diversity: 0.5\n",
      "----- Generating with seed: \"'t got to see me \n",
      "i ain't got the same s\"\n",
      "'t got to see me \n",
      "i ain't got the same sex in bed and stop it for the mall\n",
      "and i won't be the more  i don't got the ground \n",
      "and i'm not gonna have a hold of my pants\n",
      "what you can't be your superman  can't be your superman \n",
      "\n",
      "you don't wanna go down  i'm still remind me of the doors\n",
      "i'm on the same swingin'  they say with somethin'  the days of a criminal \n",
      "i'm gonna couldn't start the send it  sweatin'  much mathers and make you sit alone\n",
      "----- diversity: 1.0\n",
      "----- Generating with seed: \"in'  much mathers and make you sit alone\"\n",
      "in'  much mathers and make you sit alone and runnin' as the east\n",
      "returie to raps  can take an excuse to check  i give up \n",
      "i semul  of my ass pat\n",
      "i don't know what kind of gluer made me\n",
      "believe it balls desperate gonna call\n",
      "no more not gettin' am i say forgialess \n",
      "thing i sad anymore vanidy pull\n",
      "hannigh  get to iding me that shit his worce home\n",
      "so change  but you're 'bout\n",
      "my geniss end my mommy \n",
      "three good  that's the mapses d12  i custi\n"
     ]
    }
   ],
   "source": [
    "def sample(preds, temperature=1.0):\n",
    "    \"\"\"Helper function to sample an index from a probability array.\"\"\"\n",
    "    preds = np.asarray(preds).astype('float64')\n",
    "    preds = np.exp(np.log(preds) / temperature)  # softmax\n",
    "    preds = preds / np.sum(preds)                #\n",
    "    probas = np.random.multinomial(1, preds, 1)  # sample index\n",
    "    return np.argmax(probas)                     #\n",
    "\n",
    "chars = sorted(list(set(Corpus)))\n",
    "char_indices = dict((c, i) for i, c in enumerate(chars))\n",
    "indices_char = dict((i, c) for i, c in enumerate(chars))\n",
    "\n",
    "for diversity in [0.2, 0.5, 1.0]:\n",
    "    print('----- diversity:', diversity)\n",
    "\n",
    "    generated = ''\n",
    "    \n",
    "    generated += sentence\n",
    "    print('----- Generating with seed: \"' + sentence + '\"')\n",
    "    sys.stdout.write(generated)\n",
    "\n",
    "    for i in range(400):\n",
    "        x_pred = np.zeros((1, seqlen, len(chars)))\n",
    "        for t, char in enumerate(sentence):\n",
    "            x_pred[0, t, char_indices[char]] = 1.\n",
    "\n",
    "        preds = model.predict(x_pred, verbose=0)\n",
    "        next_index = sample(preds[0, -1], diversity)\n",
    "        next_char = indices_char[next_index]\n",
    "\n",
    "        sentence = sentence[1:] + next_char\n",
    "\n",
    "        sys.stdout.write(next_char)\n",
    "        sys.stdout.flush()\n",
    "    print()"
   ]
  },
  {
   "cell_type": "code",
   "execution_count": null,
   "id": "3e006657",
   "metadata": {},
   "outputs": [],
   "source": []
  }
 ],
 "metadata": {
  "kernelspec": {
   "display_name": "Python 3 (ipykernel)",
   "language": "python",
   "name": "python3"
  },
  "language_info": {
   "codemirror_mode": {
    "name": "ipython",
    "version": 3
   },
   "file_extension": ".py",
   "mimetype": "text/x-python",
   "name": "python",
   "nbconvert_exporter": "python",
   "pygments_lexer": "ipython3",
   "version": "3.7.11"
  }
 },
 "nbformat": 4,
 "nbformat_minor": 5
}
